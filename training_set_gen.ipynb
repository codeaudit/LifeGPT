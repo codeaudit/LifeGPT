{
 "cells": [
  {
   "cell_type": "code",
   "execution_count": 2,
   "metadata": {},
   "outputs": [
    {
     "name": "stdout",
     "output_type": "stream",
     "text": [
      "(100, 20)\n",
      "CSV generation time: 31.33033275604248 seconds\n"
     ]
    }
   ],
   "source": [
    "import sys\n",
    "import os\n",
    "import pandas as pd\n",
    "import time\n",
    "from datetime import datetime #make sure this notebook is in the same directory as the conway_lib folder\n",
    "from conway_lib import ConwayGame\n",
    "conway_game=ConwayGame()\n",
    "\n",
    "\n",
    "def generate_sets(A=100, N=30, I=2, Toroidal=False, save_folder='C:\\\\Users\\\\jaime\\\\ML_Playground_1\\\\'):\n",
    "    # Create a timestamp for the current date and time\n",
    "    timestamp = datetime.now().strftime('%Y%m%d_%H%M%S')\n",
    "    # Ensure that the save folder exists\n",
    "    os.makedirs(save_folder, exist_ok=True)\n",
    "\n",
    "    # Create an instance of ConwayGame\n",
    "    game = ConwayGame(width=N, height=N, grid_size=1)\n",
    "\n",
    "    # Start timing the process\n",
    "    start_time = time.time()\n",
    "    \n",
    "    # Generate the validation sets using the method provided\n",
    "    start = 0 #order param of the frist sample\n",
    "    end = 1 #order param of the last sample\n",
    "    train_data = game.generate_sets(A=A, N=N, I=I, s=start, e=end)\n",
    "\n",
    "    # Process and save the data to CSV\n",
    "    data = []\n",
    "    for index in range(A):\n",
    "        states = train_data[index]\n",
    "        data.append(states)\n",
    "        \n",
    "    # Save the flattened states to CSV\n",
    "    columns = [f'State {i + 1}' for i in range(I)]\n",
    "    df = pd.DataFrame(data, columns=columns)\n",
    "    print(df.shape)\n",
    "    \n",
    "    toroidal_str = 'toroidal' if Toroidal else 'non_toroidal'\n",
    "    save_path = os.path.join(save_folder, f'EXAMPLE_conway_states_{start}_{end}_{A}by{N}by{N}by{I}_{toroidal_str}_{timestamp}.csv')\n",
    "    df.to_csv(save_path, index=False)\n",
    "\n",
    "    end_time = time.time()\n",
    "    elapsed_time = end_time - start_time\n",
    "    print(f\"CSV generation time: {elapsed_time} seconds\")\n",
    "\n",
    "# Example usage\n",
    "generate_sets(A=100, N=50, I=20, Toroidal=True, save_folder='Conway_GPT_v8\\\\')"
   ]
  },
  {
   "cell_type": "code",
   "execution_count": null,
   "metadata": {},
   "outputs": [],
   "source": []
  }
 ],
 "metadata": {
  "kernelspec": {
   "display_name": "ML_Playground_1",
   "language": "python",
   "name": "python3"
  },
  "language_info": {
   "codemirror_mode": {
    "name": "ipython",
    "version": 3
   },
   "file_extension": ".py",
   "mimetype": "text/x-python",
   "name": "python",
   "nbconvert_exporter": "python",
   "pygments_lexer": "ipython3",
   "version": "3.8.18"
  }
 },
 "nbformat": 4,
 "nbformat_minor": 2
}
